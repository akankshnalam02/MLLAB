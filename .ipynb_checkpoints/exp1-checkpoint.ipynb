{
 "cells": [
  {
   "cell_type": "markdown",
   "id": "cf7c526a",
   "metadata": {},
   "source": [
    "### For Missing values and Feature Scaling"
   ]
  },
  {
   "cell_type": "code",
   "execution_count": 1,
   "id": "483c1be4",
   "metadata": {},
   "outputs": [
    {
     "name": "stdout",
     "output_type": "stream",
     "text": [
      "   Country   Age   Salary Purchased\n",
      "0   France  44.0  72000.0        No\n",
      "1    Spain  27.0  48000.0       Yes\n",
      "2  Germany  30.0  54000.0        No\n",
      "3    Spain  38.0  61000.0        No\n",
      "4  Germany  40.0      NaN       Yes\n",
      "5   France  35.0  58000.0       Yes\n",
      "6    Spain   NaN  52000.0        No\n",
      "7   France  48.0  79000.0       Yes\n",
      "8  Germany  50.0  83000.0        No\n",
      "9   France  37.0  67000.0       Yes\n"
     ]
    }
   ],
   "source": [
    "import pandas as pd\n",
    "import numpy as np\n",
    "import matplotlib.pyplot as mtp\n",
    "data_set= pd.read_csv('datasets/dataset.csv')\n",
    "print(data_set)"
   ]
  },
  {
   "cell_type": "code",
   "execution_count": 2,
   "id": "dc7b30e9",
   "metadata": {},
   "outputs": [
    {
     "name": "stdout",
     "output_type": "stream",
     "text": [
      "   Country        Age        Salary Purchased\n",
      "0   France  44.000000  72000.000000        No\n",
      "1    Spain  27.000000  48000.000000       Yes\n",
      "2  Germany  30.000000  54000.000000        No\n",
      "3    Spain  38.000000  61000.000000        No\n",
      "4  Germany  40.000000  63777.777778       Yes\n",
      "5   France  35.000000  58000.000000       Yes\n",
      "6    Spain  38.777778  52000.000000        No\n",
      "7   France  48.000000  79000.000000       Yes\n",
      "8  Germany  50.000000  83000.000000        No\n",
      "9   France  37.000000  67000.000000       Yes\n"
     ]
    }
   ],
   "source": [
    "data_set = data_set.assign(Age=data_set['Age'].fillna(data_set['Age'].mean()),\n",
    "                           Salary=data_set['Salary'].fillna(data_set['Salary'].mean()))\n",
    "\n",
    "print(data_set)"
   ]
  },
  {
   "cell_type": "code",
   "execution_count": 3,
   "id": "50c4aeb1",
   "metadata": {},
   "outputs": [
    {
     "name": "stdout",
     "output_type": "stream",
     "text": [
      "Original DataFrame:\n",
      "   Country        Age        Salary Purchased\n",
      "0   France  44.000000  72000.000000        No\n",
      "1    Spain  27.000000  48000.000000       Yes\n",
      "2  Germany  30.000000  54000.000000        No\n",
      "3    Spain  38.000000  61000.000000        No\n",
      "4  Germany  40.000000  63777.777778       Yes\n",
      "5   France  35.000000  58000.000000       Yes\n",
      "6    Spain  38.777778  52000.000000        No\n",
      "7   France  48.000000  79000.000000       Yes\n",
      "8  Germany  50.000000  83000.000000        No\n",
      "9   France  37.000000  67000.000000       Yes\n",
      "\n",
      "Min-Max Scaled DataFrame:\n",
      "   Age_Scaled  Salary_Scaled\n",
      "0    0.739130       0.685714\n",
      "1    0.000000       0.000000\n",
      "2    0.130435       0.171429\n",
      "3    0.478261       0.371429\n",
      "4    0.565217       0.450794\n",
      "5    0.347826       0.285714\n",
      "6    0.512077       0.114286\n",
      "7    0.913043       0.885714\n",
      "8    1.000000       1.000000\n",
      "9    0.434783       0.542857\n",
      "\n",
      "Standard Scaled DataFrame:\n",
      "   Age_Scaled  Salary_Scaled\n",
      "0    0.758874   7.494733e-01\n",
      "1   -1.711504  -1.438178e+00\n",
      "2   -1.275555  -8.912655e-01\n",
      "3   -0.113024  -2.532004e-01\n",
      "4    0.177609   6.632192e-16\n",
      "5   -0.548973  -5.266569e-01\n",
      "6    0.000000  -1.073570e+00\n",
      "7    1.340140   1.387538e+00\n",
      "8    1.630773   1.752147e+00\n",
      "9   -0.258340   2.937125e-01\n"
     ]
    }
   ],
   "source": [
    "import pandas as pd\n",
    "from sklearn.preprocessing import MinMaxScaler, StandardScaler\n",
    "\n",
    "# Initialize scalers\n",
    "min_max_scaler = MinMaxScaler()\n",
    "standard_scaler = StandardScaler()\n",
    "\n",
    "# Step 4: Fit the scalers on the data to compute the scaling parameters\n",
    "min_max_scaler.fit(data_set[['Age', 'Salary']])\n",
    "standard_scaler.fit(data_set[['Age', 'Salary']])\n",
    "\n",
    "# Step 5: Transform the DataFrame columns to apply the scaling\n",
    "df_min_max_scaled = pd.DataFrame(min_max_scaler.transform(data_set[['Age', 'Salary']]), columns=['Age_Scaled', 'Salary_Scaled'])\n",
    "df_standard_scaled = pd.DataFrame(standard_scaler.transform(data_set[['Age', 'Salary']]), columns=['Age_Scaled', 'Salary_Scaled'])\n",
    "\n",
    "print(\"Original DataFrame:\")\n",
    "print(data_set)\n",
    "print(\"\\nMin-Max Scaled DataFrame:\")\n",
    "print(df_min_max_scaled)\n",
    "print(\"\\nStandard Scaled DataFrame:\")\n",
    "print(df_standard_scaled)\n"
   ]
  },
  {
   "cell_type": "code",
   "execution_count": 4,
   "id": "0e32b95c",
   "metadata": {},
   "outputs": [
    {
     "name": "stdout",
     "output_type": "stream",
     "text": [
      "   Country        Age        Salary Purchased\n",
      "0   France  44.000000  72000.000000        No\n",
      "1    Spain  27.000000  48000.000000       Yes\n",
      "2  Germany  30.000000  54000.000000        No\n",
      "3    Spain  38.000000  61000.000000        No\n",
      "4  Germany  40.000000  63777.777778       Yes\n",
      "5   France  35.000000  58000.000000       Yes\n",
      "6    Spain  38.777778  52000.000000        No\n",
      "7   France  48.000000  79000.000000       Yes\n",
      "8  Germany  50.000000  83000.000000        No\n",
      "9   France  37.000000  67000.000000       Yes\n",
      "\n",
      "Data Scaled using Min Max Normalization\n",
      "   Country Purchased  Age_Scaled  Salary_Scaled\n",
      "0   France        No    0.739130       0.685714\n",
      "1    Spain       Yes    0.000000       0.000000\n",
      "2  Germany        No    0.130435       0.171429\n",
      "3    Spain        No    0.478261       0.371429\n",
      "4  Germany       Yes    0.565217       0.450794\n",
      "5   France       Yes    0.347826       0.285714\n",
      "6    Spain        No    0.512077       0.114286\n",
      "7   France       Yes    0.913043       0.885714\n",
      "8  Germany        No    1.000000       1.000000\n",
      "9   France       Yes    0.434783       0.542857\n",
      "\n",
      "Data Scaled using Z-Score Normalization\n",
      "   Country Purchased  Age_Scaled  Salary_Scaled\n",
      "0   France        No    0.758874   7.494733e-01\n",
      "1    Spain       Yes   -1.711504  -1.438178e+00\n",
      "2  Germany        No   -1.275555  -8.912655e-01\n",
      "3    Spain        No   -0.113024  -2.532004e-01\n",
      "4  Germany       Yes    0.177609   6.632192e-16\n",
      "5   France       Yes   -0.548973  -5.266569e-01\n",
      "6    Spain        No    0.000000  -1.073570e+00\n",
      "7   France       Yes    1.340140   1.387538e+00\n",
      "8  Germany        No    1.630773   1.752147e+00\n",
      "9   France       Yes   -0.258340   2.937125e-01\n"
     ]
    }
   ],
   "source": [
    "print(data_set)\n",
    "print(\"\\nData Scaled using Min Max Normalization\")\n",
    "df_new= pd.concat([data_set,df_min_max_scaled], axis=1)\n",
    "df_new.drop(['Age','Salary'],axis=1,inplace=True)\n",
    "print(df_new)\n",
    "print(\"\\nData Scaled using Z-Score Normalization\")\n",
    "df_new1= pd.concat([data_set,df_standard_scaled], axis=1)\n",
    "df_new1.drop(['Age','Salary'],axis=1,inplace=True)\n",
    "print(df_new1)"
   ]
  },
  {
   "cell_type": "code",
   "execution_count": null,
   "id": "55ddde7e",
   "metadata": {},
   "outputs": [],
   "source": []
  },
  {
   "cell_type": "markdown",
   "id": "2eddf786",
   "metadata": {},
   "source": [
    "### Feature Selection – Pearson Correlation:"
   ]
  },
  {
   "cell_type": "code",
   "execution_count": 5,
   "id": "c56fae8f",
   "metadata": {},
   "outputs": [
    {
     "name": "stdout",
     "output_type": "stream",
     "text": [
      "\n",
      " Correlated with target\n",
      "Monthly_Bill_Amount           -0.885615\n",
      "Total_Minutes_of_Usage        -0.952217\n",
      "Num_Customer_Service_Calls    -0.288675\n",
      "Contract_Length                0.151620\n",
      "Age_of_Customer                0.138282\n",
      "Customer_Satisfaction_Score   -0.480384\n",
      "Churn                          1.000000\n",
      "Name: Churn, dtype: float64\n",
      "\n",
      " Correlation Matrix:\n",
      "                             Monthly_Bill_Amount  Total_Minutes_of_Usage  \\\n",
      "Monthly_Bill_Amount                     1.000000                0.983847   \n",
      "Total_Minutes_of_Usage                  0.983847                1.000000   \n",
      "Num_Customer_Service_Calls              0.038348                0.122169   \n",
      "Contract_Length                        -0.478360               -0.344895   \n",
      "Age_of_Customer                        -0.469446               -0.334875   \n",
      "Customer_Satisfaction_Score             0.584974                0.542139   \n",
      "Churn                                  -0.885615               -0.952217   \n",
      "\n",
      "                             Num_Customer_Service_Calls  Contract_Length  \\\n",
      "Monthly_Bill_Amount                            0.038348        -0.478360   \n",
      "Total_Minutes_of_Usage                         0.122169        -0.344895   \n",
      "Num_Customer_Service_Calls                     1.000000         0.393919   \n",
      "Contract_Length                                0.393919         1.000000   \n",
      "Age_of_Customer                                0.425797         0.999389   \n",
      "Customer_Satisfaction_Score                   -0.416025        -0.801193   \n",
      "Churn                                         -0.288675         0.151620   \n",
      "\n",
      "                             Age_of_Customer  Customer_Satisfaction_Score  \\\n",
      "Monthly_Bill_Amount                -0.469446                     0.584974   \n",
      "Total_Minutes_of_Usage             -0.334875                     0.542139   \n",
      "Num_Customer_Service_Calls          0.425797                    -0.416025   \n",
      "Contract_Length                     0.999389                    -0.801193   \n",
      "Age_of_Customer                     1.000000                    -0.804521   \n",
      "Customer_Satisfaction_Score        -0.804521                     1.000000   \n",
      "Churn                               0.138282                    -0.480384   \n",
      "\n",
      "                                Churn  \n",
      "Monthly_Bill_Amount         -0.885615  \n",
      "Total_Minutes_of_Usage      -0.952217  \n",
      "Num_Customer_Service_Calls  -0.288675  \n",
      "Contract_Length              0.151620  \n",
      "Age_of_Customer              0.138282  \n",
      "Customer_Satisfaction_Score -0.480384  \n",
      "Churn                        1.000000  \n",
      "\n",
      " Highly correlated to target\n",
      "['Monthly_Bill_Amount', 'Total_Minutes_of_Usage']\n",
      "\n",
      "\n",
      "\n",
      "Highly Correlated Features:\n",
      "Monthly_Bill_Amount is correlated with Total_Minutes_of_Usage (correlation=0.9838467085463425)\n",
      "Monthly_Bill_Amount is correlated with Churn (correlation=-0.8856148855400954)\n",
      "Total_Minutes_of_Usage is correlated with Churn (correlation=-0.9522165814091076)\n",
      "Contract_Length is correlated with Age_of_Customer (correlation=0.9993892830835875)\n",
      "Contract_Length is correlated with Customer_Satisfaction_Score (correlation=-0.8011927448021527)\n",
      "Age_of_Customer is correlated with Customer_Satisfaction_Score (correlation=-0.8045211642771646)\n"
     ]
    }
   ],
   "source": [
    "import pandas as pd\n",
    "\n",
    "# Sample dataset\n",
    "data = {\n",
    "    'Monthly_Bill_Amount': [100, 150, 200, 120, 180],\n",
    "    'Total_Minutes_of_Usage': [500, 700, 800, 550, 750],\n",
    "    'Num_Customer_Service_Calls': [3, 5, 2, 4, 6],\n",
    "    'Contract_Length': [12, 24, 6, 18, 9],\n",
    "    'Age_of_Customer': [30, 40, 25, 35, 28],\n",
    "    'Customer_Satisfaction_Score': [4, 3, 5, 2, 4],\n",
    "    'Churn': [1, 0, 0, 1, 0]\n",
    "}\n",
    "\n",
    "df = pd.DataFrame(data)\n",
    "\n",
    "# Calculate Pearson correlation matrix\n",
    "corr_matrix = df.corr()\n",
    "corr_target = df.corr()['Churn']\n",
    "print('\\n Correlated with target')\n",
    "print(corr_target)\n",
    "print(\"\\n Correlation Matrix:\")\n",
    "print(corr_matrix)\n",
    "\n",
    "# Identify highly correlated features\n",
    "threshold = 0.7\n",
    "\n",
    "highly_correlated_to_target = []\n",
    "for i in range(len(corr_target) - 1):\n",
    "    if abs(corr_target.iloc[i]) > threshold:  # Use .iloc[i] to avoid warning\n",
    "        highly_correlated_to_target.append(df.columns[i])\n",
    "\n",
    "print(\"\\n Highly correlated to target\")\n",
    "print(highly_correlated_to_target)\n",
    "print(\"\\n\")\n",
    "\n",
    "highly_correlated = []\n",
    "\n",
    "for i in range(len(corr_matrix.columns)):\n",
    "    for j in range(i + 1, len(corr_matrix.columns)):\n",
    "        if abs(corr_matrix.iloc[i, j]) > threshold:\n",
    "            feature_i = corr_matrix.columns[i]\n",
    "            feature_j = corr_matrix.columns[j]\n",
    "            highly_correlated.append((feature_i, feature_j, corr_matrix.iloc[i, j]))\n",
    "\n",
    "# Print highly correlated features\n",
    "print(\"\\nHighly Correlated Features:\")\n",
    "for feature_i, feature_j, correlation in highly_correlated:\n",
    "    print(f\"{feature_i} is correlated with {feature_j} (correlation={correlation})\")\n"
   ]
  },
  {
   "cell_type": "code",
   "execution_count": 6,
   "id": "e086c178",
   "metadata": {},
   "outputs": [
    {
     "name": "stdout",
     "output_type": "stream",
     "text": [
      "\n",
      " Columns in the data frame\n",
      "Index(['Monthly_Bill_Amount', 'Total_Minutes_of_Usage',\n",
      "       'Num_Customer_Service_Calls', 'Contract_Length', 'Age_of_Customer',\n",
      "       'Customer_Satisfaction_Score', 'Churn'],\n",
      "      dtype='object')\n",
      "\n",
      " Irrelevant Features\n",
      "{'Contract_Length', 'Customer_Satisfaction_Score', 'Age_of_Customer', 'Num_Customer_Service_Calls'}\n",
      "\n",
      " Redundant Features\n",
      "{'Total_Minutes_of_Usage'}\n",
      "\n",
      "Selected Features:\n",
      "['Monthly_Bill_Amount']\n"
     ]
    }
   ],
   "source": [
    "# Remove redundant features\n",
    "redundant_features = set()\n",
    "irrelevant_features = set()\n",
    "\n",
    "for f in df.columns[:-1]:\n",
    "    if f not in highly_correlated_to_target:\n",
    "        irrelevant_features.add(f)\n",
    "\n",
    "for feature_i, feature_j, _ in highly_correlated:\n",
    "    if ((feature_i in highly_correlated_to_target) and (feature_j in highly_correlated_to_target)):\n",
    "        if(corr_target[feature_i] < corr_target[feature_j]):\n",
    "            redundant_features.add(feature_i)\n",
    "        else:\n",
    "            redundant_features.add(feature_j)\n",
    "\n",
    "print(\"\\n Columns in the data frame\")\n",
    "print(df.columns)\n",
    "print(\"\\n Irrelevant Features\")\n",
    "print(irrelevant_features)\n",
    "print(\"\\n Redundant Features\")\n",
    "print(redundant_features)\n",
    "\n",
    "selected_features = [feature for feature in df.columns[:-1]\n",
    "                     if (feature not in redundant_features) and (feature not in irrelevant_features)]\n",
    "# Create a new DataFrame with selected features\n",
    "df_selected = df[selected_features]\n",
    "# Print the selected features\n",
    "print(\"\\nSelected Features:\")\n",
    "print(selected_features[:])\n"
   ]
  },
  {
   "cell_type": "code",
   "execution_count": null,
   "id": "22636c2e",
   "metadata": {},
   "outputs": [],
   "source": []
  },
  {
   "cell_type": "code",
   "execution_count": null,
   "id": "81496fe3",
   "metadata": {},
   "outputs": [],
   "source": []
  },
  {
   "cell_type": "markdown",
   "id": "490b2654",
   "metadata": {},
   "source": [
    "## Feature Selection - Chi-Square Test:"
   ]
  },
  {
   "cell_type": "code",
   "execution_count": 7,
   "id": "2248fc73",
   "metadata": {},
   "outputs": [],
   "source": [
    "from pandas import read_csv\n",
    "from sklearn.model_selection import train_test_split\n",
    "from sklearn.preprocessing import LabelEncoder\n",
    "from sklearn.preprocessing import OrdinalEncoder\n",
    "from sklearn.feature_selection import SelectKBest\n",
    "from sklearn.feature_selection import chi2\n",
    "from matplotlib import pyplot\n",
    "\n",
    "# load the dataset\n",
    "def load_dataset(filename):\n",
    "    # load the dataset as a pandas DataFrame\n",
    "    data = read_csv(filename, header=None)\n",
    "    # retrieve numpy array\n",
    "    dataset = data.values\n",
    "    # split into input (X) and output (y) variables\n",
    "    X = dataset[:, :-1]\n",
    "    y = dataset[:, -1]\n",
    "    # format all fields as string\n",
    "    X = X.astype(str)\n",
    "\n",
    "    return X, y\n",
    "\n",
    "# prepare input data\n",
    "def prepare_inputs(X_train, X_test):\n",
    "    oe = OrdinalEncoder()\n",
    "    oe.fit(X_train)\n",
    "    X_train_enc = oe.transform(X_train)\n",
    "    X_test_enc = oe.transform(X_test)\n",
    "    return X_train_enc, X_test_enc\n",
    "\n",
    "# prepare target\n",
    "def prepare_targets(y_train, y_test):\n",
    "    le = LabelEncoder()\n",
    "    le.fit(y_train)\n",
    "    y_train_enc = le.transform(y_train)\n",
    "    y_test_enc = le.transform(y_test)\n",
    "    return y_train_enc, y_test_enc\n"
   ]
  },
  {
   "cell_type": "code",
   "execution_count": 8,
   "id": "901887ac",
   "metadata": {},
   "outputs": [
    {
     "name": "stdout",
     "output_type": "stream",
     "text": [
      "Feature 0: 0.472553\n",
      "Feature 1: 0.029193\n",
      "Feature 2: 2.137658\n",
      "Feature 3: 29.381059\n",
      "Feature 4: 0.776891\n",
      "Feature 5: 8.100183\n",
      "Feature 6: 1.273822\n",
      "Feature 7: 0.695321\n",
      "Feature 8: 3.699989\n"
     ]
    },
    {
     "data": {
      "image/png": "[encoded data removed]",
      "text/plain": [
       "<Figure size 640x480 with 1 Axes>"
      ]
     },
     "metadata": {},
     "output_type": "display_data"
    }
   ],
   "source": [
    "# feature selection\n",
    "def select_features(X_train, y_train, X_test):\n",
    "    fs = SelectKBest(score_func=chi2, k='all')\n",
    "    fs.fit(X_train, y_train)\n",
    "    X_train_fs = fs.transform(X_train)\n",
    "    X_test_fs = fs.transform(X_test)\n",
    "    return X_train_fs, X_test_fs, fs\n",
    "\n",
    "# load the dataset\n",
    "X, y = load_dataset('datasets/breast-cancer.csv')\n",
    "# split into train and test sets\n",
    "X_train, X_test, y_train, y_test = train_test_split(X, y, test_size=0.33, random_state=1)\n",
    "# prepare input data\n",
    "X_train_enc, X_test_enc = prepare_inputs(X_train, X_test)\n",
    "# prepare output data\n",
    "y_train_enc, y_test_enc = prepare_targets(y_train, y_test)\n",
    "# feature selection\n",
    "X_train_fs, X_test_fs, fs = select_features(X_train_enc, y_train_enc, X_test_enc)\n",
    "\n",
    "# what are scores for the features\n",
    "for i in range(len(fs.scores_)):\n",
    "    print('Feature %d: %f' % (i, fs.scores_[i]))\n",
    "\n",
    "# plot the scores\n",
    "pyplot.bar([i for i in range(len(fs.scores_))], fs.scores_)\n",
    "pyplot.show()\n"
   ]
  },
  {
   "cell_type": "code",
   "execution_count": null,
   "id": "521e2422",
   "metadata": {},
   "outputs": [],
   "source": []
  },
  {
   "cell_type": "code",
   "execution_count": null,
   "id": "0a74ed40",
   "metadata": {},
   "outputs": [],
   "source": []
  },
  {
   "cell_type": "markdown",
   "id": "f86a5a06",
   "metadata": {},
   "source": [
    "### Feature Selection - Mutual Information"
   ]
  },
  {
   "cell_type": "code",
   "execution_count": 9,
   "id": "1b240e42",
   "metadata": {},
   "outputs": [],
   "source": [
    "from pandas import read_csv\n",
    "from sklearn.model_selection import train_test_split\n",
    "from sklearn.preprocessing import LabelEncoder\n",
    "from sklearn.preprocessing import OrdinalEncoder\n",
    "from sklearn.feature_selection import SelectKBest\n",
    "from sklearn.feature_selection import mutual_info_classif\n",
    "from matplotlib import pyplot\n",
    "\n",
    "# load the dataset\n",
    "def load_dataset(filename):\n",
    "    # load the dataset as a pandas DataFrame\n",
    "    data = read_csv(filename, header=None)\n",
    "    # retrieve numpy array\n",
    "    dataset = data.values\n",
    "    # split into input (X) and output (y) variables\n",
    "    X = dataset[:, :-1]\n",
    "    y = dataset[:, -1]\n",
    "    # format all fields as string\n",
    "    X = X.astype(str)\n",
    "\n",
    "    return X, y\n",
    "\n",
    "# prepare input data\n",
    "def prepare_inputs(X_train, X_test):\n",
    "    oe = OrdinalEncoder()\n",
    "    oe.fit(X_train)\n",
    "    X_train_enc = oe.transform(X_train)\n",
    "    X_test_enc = oe.transform(X_test)\n",
    "    return X_train_enc, X_test_enc\n",
    "\n",
    "# prepare target\n",
    "def prepare_targets(y_train, y_test):\n",
    "    le = LabelEncoder()\n",
    "    le.fit(y_train)\n",
    "    y_train_enc = le.transform(y_train)\n",
    "    y_test_enc = le.transform(y_test)\n",
    "    return y_train_enc, y_test_enc\n",
    "\n",
    "# feature selection\n",
    "def select_features(X_train, y_train, X_test):\n",
    "    fs = SelectKBest(score_func=mutual_info_classif, k='all')\n",
    "    fs.fit(X_train, y_train)\n",
    "    X_train_fs = fs.transform(X_train)\n",
    "    X_test_fs = fs.transform(X_test)\n",
    "    return X_train_fs, X_test_fs, fs\n"
   ]
  },
  {
   "cell_type": "code",
   "execution_count": 10,
   "id": "93f2498d",
   "metadata": {},
   "outputs": [
    {
     "name": "stdout",
     "output_type": "stream",
     "text": [
      "Feature 0: 0.000000\n",
      "Feature 1: 0.000000\n",
      "Feature 2: 0.031273\n",
      "Feature 3: 0.000000\n",
      "Feature 4: 0.065775\n",
      "Feature 5: 0.086490\n",
      "Feature 6: 0.000000\n",
      "Feature 7: 0.027109\n",
      "Feature 8: 0.000000\n"
     ]
    },
    {
     "data": {
      "image/png": "[encoded data removed]",
      "text/plain": [
       "<Figure size 640x480 with 1 Axes>"
      ]
     },
     "metadata": {},
     "output_type": "display_data"
    }
   ],
   "source": [
    "# load the dataset\n",
    "X, y = load_dataset('datasets/breast-cancer.csv')\n",
    "\n",
    "# split into train and test sets\n",
    "X_train, X_test, y_train, y_test = train_test_split(X, y, test_size=0.33, random_state=1)\n",
    "\n",
    "# prepare input data\n",
    "X_train_enc, X_test_enc = prepare_inputs(X_train, X_test)\n",
    "\n",
    "# prepare output data\n",
    "y_train_enc, y_test_enc = prepare_targets(y_train, y_test)\n",
    "\n",
    "# feature selection\n",
    "X_train_fs, X_test_fs, fs = select_features(X_train_enc, y_train_enc, X_test_enc)\n",
    "\n",
    "# what are scores for the features\n",
    "for i in range(len(fs.scores_)):\n",
    "    print('Feature %d: %f' % (i, fs.scores_[i]))\n",
    "\n",
    "# plot the scores\n",
    "pyplot.bar([i for i in range(len(fs.scores_))], fs.scores_)\n",
    "pyplot.show()\n"
   ]
  },
  {
   "cell_type": "code",
   "execution_count": null,
   "id": "cbc9180c",
   "metadata": {},
   "outputs": [],
   "source": []
  },
  {
   "cell_type": "code",
   "execution_count": null,
   "id": "0c05537f",
   "metadata": {},
   "outputs": [],
   "source": []
  },
  {
   "cell_type": "markdown",
   "id": "53bca982",
   "metadata": {},
   "source": [
    "### Feature Selection-Wrapper Method:"
   ]
  },
  {
   "cell_type": "code",
   "execution_count": 11,
   "id": "9095643a",
   "metadata": {},
   "outputs": [
    {
     "name": "stdout",
     "output_type": "stream",
     "text": [
      "['sepal length (cm)', 'sepal width (cm)', 'petal length (cm)', 'petal width (cm)'] [ True False  True  True]\n"
     ]
    },
    {
     "data": {
      "text/plain": [
       "(150, 3)"
      ]
     },
     "execution_count": 11,
     "metadata": {},
     "output_type": "execute_result"
    }
   ],
   "source": [
    "import pandas as pd\n",
    "import numpy as np\n",
    "from sklearn.feature_selection import SequentialFeatureSelector\n",
    "from sklearn.neighbors import KNeighborsClassifier\n",
    "from sklearn.datasets import load_iris\n",
    "\n",
    "i = load_iris()\n",
    "X = i.data\n",
    "y = i.target\n",
    "\n",
    "knn = KNeighborsClassifier(n_neighbors=3)\n",
    "sfs = SequentialFeatureSelector(knn, n_features_to_select=3)\n",
    "sfs.fit(X, y)\n",
    "\n",
    "SequentialFeatureSelector(estimator=KNeighborsClassifier(n_neighbors=3), n_features_to_select=3)\n",
    "\n",
    "print(i.feature_names, sfs.get_support())\n",
    "sfs.transform(X).shape\n"
   ]
  },
  {
   "cell_type": "code",
   "execution_count": null,
   "id": "0f5a2da4",
   "metadata": {},
   "outputs": [],
   "source": []
  }
 ],
 "metadata": {
  "kernelspec": {
   "display_name": "Python 3 (ipykernel)",
   "language": "python",
   "name": "python3"
  },
  "language_info": {
   "codemirror_mode": {
    "name": "ipython",
    "version": 3
   },
   "file_extension": ".py",
   "mimetype": "text/x-python",
   "name": "python",
   "nbconvert_exporter": "python",
   "pygments_lexer": "ipython3",
   "version": "3.11.5"
  }
 },
 "nbformat": 4,
 "nbformat_minor": 5
}
