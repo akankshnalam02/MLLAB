{
 "cells": [
  {
   "cell_type": "code",
   "execution_count": 1,
   "id": "70c31e8a",
   "metadata": {},
   "outputs": [
    {
     "name": "stdout",
     "output_type": "stream",
     "text": [
      "Estimated coefficients:\n",
      "b_0 = 1.4000000000000004\n",
      "b_1 = 1.0\n",
      "Predicted values: [ 1.4  2.4  3.4  4.4  5.4  6.4  7.4  8.4  9.4 10.4]\n"
     ]
    },
    {
     "data": {
      "image/png": "[encoded data removed]",
      "text/plain": [
       "<Figure size 640x480 with 1 Axes>"
      ]
     },
     "metadata": {},
     "output_type": "display_data"
    }
   ],
   "source": [
    "#PROGRAM (Linear regression):\n",
    "import numpy as np\n",
    "import matplotlib.pyplot as plt\n",
    "\n",
    "def estimate_coef(x, y):\n",
    "    # number of observations/points\n",
    "    n = np.size(x)\n",
    "    # mean of x and y vector\n",
    "    m_x = np.mean(x)\n",
    "    m_y = np.mean(y)\n",
    "    # calculating cross-deviation and deviation about x\n",
    "    SS_xy = np.sum(y * x) - n * m_y * m_x\n",
    "    SS_xx = np.sum(x * x) - n * m_x * m_x\n",
    "    # calculating regression coefficients\n",
    "    b_1 = SS_xy / SS_xx\n",
    "    b_0 = m_y - b_1 * m_x\n",
    "    return (b_0, b_1)\n",
    "\n",
    "def plot_regression_line(x, y, b):\n",
    "    # plotting the actual points as scatter plot\n",
    "    plt.scatter(x, y, color=\"m\", marker=\"o\", s=30)\n",
    "    # predicted response vector \n",
    "    y_pred = b[0] + b[1] * x\n",
    "    print(\"Predicted values:\", y_pred)\n",
    "    # plotting the regression line\n",
    "    plt.plot(x, y_pred, marker='^', color=\"g\") \n",
    "    plt.xlabel('x')\n",
    "    plt.ylabel('y')\n",
    "    plt.title('Linear Regression Fit')\n",
    "    plt.show()\n",
    "\n",
    "def main():\n",
    "    # observations / data\n",
    "    x = np.array([0, 1, 2, 3, 4, 5, 6, 7, 8, 9])\n",
    "    y = np.array([2, 1, 5, 3, 6, 4, 9, 10, 11, 8])\n",
    "    \n",
    "    # estimating coefficients\n",
    "    b = estimate_coef(x, y)\n",
    "    print(\"Estimated coefficients:\\nb_0 = {}\\nb_1 = {}\".format(b[0], b[1]))\n",
    "    \n",
    "    # plotting regression line\n",
    "    plot_regression_line(x, y, b)\n",
    "\n",
    "# Ensure the main function is called when running the script\n",
    "if __name__ == \"__main__\":\n",
    "    main()"
   ]
  },
  {
   "cell_type": "code",
   "execution_count": 2,
   "id": "0c4bb383",
   "metadata": {},
   "outputs": [
    {
     "name": "stdout",
     "output_type": "stream",
     "text": [
      "(10, 1)\n",
      "Coefficient of Determination i.e. is r-squared value= 0.7575757575757576\n",
      "Linear regression coefficient associated with the predictor variable=  [1.]\n",
      "Linear regression intercept = 1.4000000000000004\n"
     ]
    }
   ],
   "source": [
    "from sklearn.linear_model import LinearRegression\n",
    "x = np.array([0, 1, 2, 3, 4, 5, 6, 7, 8, 9]).reshape((-1, 1))\n",
    "y = np.array([2, 1, 5, 3, 6, 4, 9, 10, 11, 8])\n",
    "#x.reshape((-1,1))\n",
    "print(x.shape)\n",
    "lr_model=LinearRegression().fit(x,y)\n",
    "print(\"Coefficient of Determination i.e. is r-squared value=\",lr_model. score(x,y))\n",
    "print(\"Linear regression coefficient associated with the predictor variable= \",lr_model.coef_)\n",
    "print(\"Linear regression intercept =\", lr_model.intercept_)\n",
    "\n",
    "\n",
    "\n",
    "\n"
   ]
  },
  {
   "cell_type": "code",
   "execution_count": 3,
   "id": "fb3c99bd",
   "metadata": {},
   "outputs": [
    {
     "name": "stdout",
     "output_type": "stream",
     "text": [
      "(6, 1)\n"
     ]
    }
   ],
   "source": [
    "z=np.array([5, 15, 25, 35, 45, 55]).reshape((-1, 1))\n",
    "print(z.shape)"
   ]
  },
  {
   "cell_type": "code",
   "execution_count": null,
   "id": "5082dd22",
   "metadata": {},
   "outputs": [],
   "source": [
    "#Multiple_Linear_Regression_Startups\n",
    "import numpy as np\n",
    "import matplotlib.pyplot as plt\n",
    "import pandas as pd\n",
    "dataset = pd.read_csv('datasets/50_Startups.csv')\n",
    "dataset.head()\n",
    "# data preprocessing\n",
    "X = dataset.iloc[:,:-1]\n",
    "y = dataset.iloc[:,4]\n",
    "\n",
    "from sklearn.preprocessing import LabelEncoder, OneHotEncoder\n",
    "encoder_dense = OneHotEncoder(drop='first', sparse=False)\n",
    "one_hot_encoded = encoder_dense.fit_transform(X[['State']])\n",
    "one_hot_encoded_df = pd.DataFrame(one_hot_encoded,\n",
    "columns=encoder_dense.get_feature_names_out(['State']))\n",
    "X = pd.concat([X, one_hot_encoded_df], axis=1)\n",
    "# Drop the original 'Category' column if needed\n",
    "X.drop('State', axis=1, inplace=True)\n",
    "print(X)\n",
    "from sklearn.model_selection import train_test_split\n",
    "X_train, X_test, y_train, y_test = train_test_split(X, y, test_size = 0.2,random_state = 0)\n",
    "# Fitting the model\n",
    "from sklearn.linear_model import LinearRegression\n",
    "regressor = LinearRegression()\n",
    "regressor.fit(X_train, y_train)\n",
    "# predicting the test set results\n",
    "y_pred = regressor.predict(X_test)\n",
    "y_pred_1 =regressor.predict(X_train)\n",
    "print(y_test)\n",
    "print(y_pred)"
   ]
  },
  {
   "cell_type": "code",
   "execution_count": null,
   "id": "4a18af4c",
   "metadata": {},
   "outputs": [],
   "source": []
  },
  {
   "cell_type": "code",
   "execution_count": null,
   "id": "a60fad98",
   "metadata": {},
   "outputs": [],
   "source": []
  },
  {
   "cell_type": "code",
   "execution_count": null,
   "id": "34433daa",
   "metadata": {},
   "outputs": [],
   "source": [
    "#if above not works use this "
   ]
  },
  {
   "cell_type": "code",
   "execution_count": 8,
   "id": "49530525",
   "metadata": {},
   "outputs": [
    {
     "name": "stdout",
     "output_type": "stream",
     "text": [
      "   R&D Spend  Administration  Marketing Spend       State     Profit\n",
      "0  165349.20       136897.80        471784.10    New York  192261.83\n",
      "1  162597.70       151377.59        443898.53  California  191792.06\n",
      "2  153441.51       101145.55        407934.54     Florida  191050.39\n",
      "3  144372.41       118671.85        383199.62    New York  182901.99\n",
      "4  142107.34        91391.77        366168.42     Florida  166187.94\n",
      "    R&D Spend  Administration  Marketing Spend  State_Florida  State_New York\n",
      "0   165349.20       136897.80        471784.10            0.0             1.0\n",
      "1   162597.70       151377.59        443898.53            0.0             0.0\n",
      "2   153441.51       101145.55        407934.54            1.0             0.0\n",
      "3   144372.41       118671.85        383199.62            0.0             1.0\n",
      "4   142107.34        91391.77        366168.42            1.0             0.0\n",
      "5   131876.90        99814.71        362861.36            0.0             1.0\n",
      "6   134615.46       147198.87        127716.82            0.0             0.0\n",
      "7   130298.13       145530.06        323876.68            1.0             0.0\n",
      "8   120542.52       148718.95        311613.29            0.0             1.0\n",
      "9   123334.88       108679.17        304981.62            0.0             0.0\n",
      "10  101913.08       110594.11        229160.95            1.0             0.0\n",
      "11  100671.96        91790.61        249744.55            0.0             0.0\n",
      "12   93863.75       127320.38        249839.44            1.0             0.0\n",
      "13   91992.39       135495.07        252664.93            0.0             0.0\n",
      "14  119943.24       156547.42        256512.92            1.0             0.0\n",
      "15  114523.61       122616.84        261776.23            0.0             1.0\n",
      "16   78013.11       121597.55        264346.06            0.0             0.0\n",
      "17   94657.16       145077.58        282574.31            0.0             1.0\n",
      "18   91749.16       114175.79        294919.57            1.0             0.0\n",
      "19   86419.70       153514.11             0.00            0.0             1.0\n",
      "20   76253.86       113867.30        298664.47            0.0             0.0\n",
      "21   78389.47       153773.43        299737.29            0.0             1.0\n",
      "22   73994.56       122782.75        303319.26            1.0             0.0\n",
      "23   67532.53       105751.03        304768.73            1.0             0.0\n",
      "24   77044.01        99281.34        140574.81            0.0             1.0\n",
      "25   64664.71       139553.16        137962.62            0.0             0.0\n",
      "26   75328.87       144135.98        134050.07            1.0             0.0\n",
      "27   72107.60       127864.55        353183.81            0.0             1.0\n",
      "28   66051.52       182645.56        118148.20            1.0             0.0\n",
      "29   65605.48       153032.06        107138.38            0.0             1.0\n",
      "30   61994.48       115641.28         91131.24            1.0             0.0\n",
      "31   61136.38       152701.92         88218.23            0.0             1.0\n",
      "32   63408.86       129219.61         46085.25            0.0             0.0\n",
      "33   55493.95       103057.49        214634.81            1.0             0.0\n",
      "34   46426.07       157693.92        210797.67            0.0             0.0\n",
      "35   46014.02        85047.44        205517.64            0.0             1.0\n",
      "36   28663.76       127056.21        201126.82            1.0             0.0\n",
      "37   44069.95        51283.14        197029.42            0.0             0.0\n",
      "38   20229.59        65947.93        185265.10            0.0             1.0\n",
      "39   38558.51        82982.09        174999.30            0.0             0.0\n",
      "40   28754.33       118546.05        172795.67            0.0             0.0\n",
      "41   27892.92        84710.77        164470.71            1.0             0.0\n",
      "42   23640.93        96189.63        148001.11            0.0             0.0\n",
      "43   15505.73       127382.30         35534.17            0.0             1.0\n",
      "44   22177.74       154806.14         28334.72            0.0             0.0\n",
      "45    1000.23       124153.04          1903.93            0.0             1.0\n",
      "46    1315.46       115816.21        297114.46            1.0             0.0\n",
      "47       0.00       135426.92             0.00            0.0             0.0\n",
      "48     542.05        51743.15             0.00            0.0             1.0\n",
      "49       0.00       116983.80         45173.06            0.0             0.0\n",
      "Actual test set results:\n",
      "[103282.38 144259.4  146121.95  77798.83 191050.39 105008.31  81229.06\n",
      "  97483.56 110352.25 166187.94]\n",
      "\n",
      "Predicted test set results:\n",
      "[103015.20159796 132582.27760816 132447.73845174  71976.09851258\n",
      " 178537.48221055 116161.24230165  67851.69209676  98791.73374687\n",
      " 113969.43533012 167921.0656955 ]\n"
     ]
    }
   ],
   "source": [
    "# Multiple Linear Regression on Startups Dataset\n",
    "import numpy as np\n",
    "import pandas as pd\n",
    "\n",
    "# Load dataset\n",
    "dataset = pd.read_csv('datasets/50_Startups.csv')\n",
    "print(dataset.head())\n",
    "\n",
    "# Data preprocessing\n",
    "X = dataset.iloc[:, :-1]  # Independent variables\n",
    "y = dataset.iloc[:, 4]     # Dependent variable (Profit)\n",
    "\n",
    "# Encoding categorical data using OneHotEncoder\n",
    "from sklearn.preprocessing import OneHotEncoder\n",
    "\n",
    "# Create an instance of OneHotEncoder without the sparse argument\n",
    "encoder_dense = OneHotEncoder(drop='first')  # drop='first' to avoid the dummy variable trap\n",
    "\n",
    "# Fit and transform the 'State' column\n",
    "one_hot_encoded = encoder_dense.fit_transform(X[['State']]).toarray()  # Convert to array to avoid sparse matrix\n",
    "\n",
    "# Create DataFrame for one-hot encoded variables\n",
    "one_hot_encoded_df = pd.DataFrame(one_hot_encoded, columns=encoder_dense.get_feature_names_out(['State']))\n",
    "\n",
    "# Concatenate the one-hot encoded DataFrame with the original X DataFrame\n",
    "X = pd.concat([X.reset_index(drop=True), one_hot_encoded_df], axis=1)\n",
    "\n",
    "# Drop the original 'State' column\n",
    "X.drop('State', axis=1, inplace=True)\n",
    "print(X)\n",
    "\n",
    "# Splitting the dataset into the training set and test set\n",
    "from sklearn.model_selection import train_test_split\n",
    "X_train, X_test, y_train, y_test = train_test_split(X, y, test_size=0.2, random_state=0)\n",
    "\n",
    "# Fitting the model\n",
    "from sklearn.linear_model import LinearRegression\n",
    "regressor = LinearRegression()\n",
    "regressor.fit(X_train, y_train)\n",
    "\n",
    "# Predicting the test set results\n",
    "y_pred = regressor.predict(X_test)\n",
    "y_pred_train = regressor.predict(X_train)\n",
    "\n",
    "# Output results\n",
    "print(\"Actual test set results:\")\n",
    "print(y_test.values)\n",
    "print(\"\\nPredicted test set results:\")\n",
    "print(y_pred)\n"
   ]
  },
  {
   "cell_type": "code",
   "execution_count": null,
   "id": "fd1720f3",
   "metadata": {},
   "outputs": [],
   "source": []
  }
 ],
 "metadata": {
  "kernelspec": {
   "display_name": "Python 3 (ipykernel)",
   "language": "python",
   "name": "python3"
  },
  "language_info": {
   "codemirror_mode": {
    "name": "ipython",
    "version": 3
   },
   "file_extension": ".py",
   "mimetype": "text/x-python",
   "name": "python",
   "nbconvert_exporter": "python",
   "pygments_lexer": "ipython3",
   "version": "3.11.5"
  }
 },
 "nbformat": 4,
 "nbformat_minor": 5
}
