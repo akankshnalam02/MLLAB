{
 "cells": [
  {
   "cell_type": "code",
   "execution_count": 1,
   "id": "0fcfc60a",
   "metadata": {},
   "outputs": [
    {
     "name": "stdout",
     "output_type": "stream",
     "text": [
      "1.0\n"
     ]
    }
   ],
   "source": [
    "#Binary Logistic Regression:\n",
    "from sklearn.linear_model import LogisticRegression\n",
    "from sklearn import datasets\n",
    "from sklearn.preprocessing import StandardScaler\n",
    "from sklearn.metrics import accuracy_score \n",
    "iris=datasets.load_iris()\n",
    "features = iris.data[:100,:]\n",
    "target =iris.target[:100]\n",
    "scaler =StandardScaler()\n",
    "features_standardized =scaler.fit_transform(features)\n",
    "logistic_regression = LogisticRegression(random_state=0)\n",
    "model=logistic_regression.fit(features_standardized,target)\n",
    "y_pred=model.predict(features_standardized)\n",
    "print(accuracy_score(y_pred,target))"
   ]
  },
  {
   "cell_type": "code",
   "execution_count": 2,
   "id": "444583fe",
   "metadata": {},
   "outputs": [
    {
     "name": "stdout",
     "output_type": "stream",
     "text": [
      "0.9733333333333334\n"
     ]
    }
   ],
   "source": [
    "#Multinomial Regression:\n",
    "from sklearn.linear_model import LogisticRegression\n",
    "from sklearn import datasets\n",
    "from sklearn.preprocessing import StandardScaler\n",
    "from sklearn.metrics import accuracy_score\n",
    "iris=datasets.load_iris()\n",
    "features = iris.data\n",
    "target =iris.target\n",
    "scaler =StandardScaler()\n",
    "features_standardized =scaler.fit_transform(features)\n",
    "logistic_regression = LogisticRegression(random_state=0)\n",
    "model=logistic_regression.fit(features_standardized,target)\n",
    "y_pred=model.predict(features_standardized)\n",
    "print(accuracy_score(y_pred,target))"
   ]
  },
  {
   "cell_type": "code",
   "execution_count": 3,
   "id": "d3ab1f09",
   "metadata": {},
   "outputs": [
    {
     "name": "stdout",
     "output_type": "stream",
     "text": [
      "0.9466666666666667\n"
     ]
    },
    {
     "name": "stderr",
     "output_type": "stream",
     "text": [
      "C:\\Users\\akanksh_02\\anaconda3\\Lib\\site-packages\\sklearn\\linear_model\\_logistic.py:1256: FutureWarning: 'multi_class' was deprecated in version 1.5 and will be removed in 1.7. Use OneVsRestClassifier(LogisticRegression(..)) instead. Leave it to its default value to avoid this warning.\n",
      "  warnings.warn(\n"
     ]
    }
   ],
   "source": [
    "#Multinomial Logistic Regression [one vs Rest]\n",
    "from sklearn.linear_model import LogisticRegression\n",
    "from sklearn import datasets\n",
    "from sklearn.preprocessing import StandardScaler\n",
    "from sklearn.metrics import accuracy_score \n",
    "iris=datasets.load_iris()\n",
    "features = iris.data\n",
    "target =iris.target\n",
    "scaler =StandardScaler()\n",
    "features_standardized =scaler.fit_transform(features)\n",
    "logistic_regression = LogisticRegression(multi_class='ovr',random_state=0)\n",
    "model = logistic_regression.fit(features_standardized,target)\n",
    "y_pred=model.predict(features_standardized)\n",
    "print(accuracy_score(y_pred,target))"
   ]
  },
  {
   "cell_type": "code",
   "execution_count": null,
   "id": "f5500a44",
   "metadata": {},
   "outputs": [],
   "source": []
  }
 ],
 "metadata": {
  "kernelspec": {
   "display_name": "Python 3 (ipykernel)",
   "language": "python",
   "name": "python3"
  },
  "language_info": {
   "codemirror_mode": {
    "name": "ipython",
    "version": 3
   },
   "file_extension": ".py",
   "mimetype": "text/x-python",
   "name": "python",
   "nbconvert_exporter": "python",
   "pygments_lexer": "ipython3",
   "version": "3.11.5"
  }
 },
 "nbformat": 4,
 "nbformat_minor": 5
}
