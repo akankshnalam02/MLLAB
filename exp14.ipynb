{
 "cells": [
  {
   "cell_type": "code",
   "execution_count": 1,
   "id": "4d683c52",
   "metadata": {},
   "outputs": [
    {
     "data": {
      "text/plain": [
       "['model.pkl']"
      ]
     },
     "execution_count": 1,
     "metadata": {},
     "output_type": "execute_result"
    }
   ],
   "source": [
    "from sklearn.ensemble import RandomForestClassifier\n",
    "from sklearn import datasets\n",
    "import joblib\n",
    "iris=datasets.load_iris()\n",
    "features=iris.data\n",
    "target=iris.target\n",
    "classifer=RandomForestClassifier()\n",
    "model=classifer.fit(features, target)\n",
    "joblib.dump(model, \"model.pkl\")"
   ]
  },
  {
   "cell_type": "code",
   "execution_count": 4,
   "id": "82aa9f00",
   "metadata": {},
   "outputs": [],
   "source": [
    " classifer=joblib.load(\"model.pkl\")\n"
   ]
  },
  {
   "cell_type": "code",
   "execution_count": 5,
   "id": "f24e8951",
   "metadata": {},
   "outputs": [
    {
     "name": "stdout",
     "output_type": "stream",
     "text": [
      "[0]\n",
      "[2]\n",
      "2\n"
     ]
    }
   ],
   "source": [
    "new_observation=[[ 5.2, 3.2, 1.1, 0.1]]\n",
    "\n",
    "output_class=classifer.predict(new_observation)\n",
    "print (output_class)\n",
    "output_class=classifer.predict(iris.data[101].reshape(1,-1)) \n",
    "print (output_class) \n",
    "print(iris.target [101])"
   ]
  },
  {
   "cell_type": "code",
   "execution_count": null,
   "id": "c79afee5",
   "metadata": {},
   "outputs": [],
   "source": []
  }
 ],
 "metadata": {
  "kernelspec": {
   "display_name": "Python 3 (ipykernel)",
   "language": "python",
   "name": "python3"
  },
  "language_info": {
   "codemirror_mode": {
    "name": "ipython",
    "version": 3
   },
   "file_extension": ".py",
   "mimetype": "text/x-python",
   "name": "python",
   "nbconvert_exporter": "python",
   "pygments_lexer": "ipython3",
   "version": "3.10.9"
  }
 },
 "nbformat": 4,
 "nbformat_minor": 5
}
