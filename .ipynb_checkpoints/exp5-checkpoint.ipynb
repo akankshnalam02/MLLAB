{
 "cells": [
  {
   "cell_type": "code",
   "execution_count": 1,
   "id": "bbbacdff",
   "metadata": {},
   "outputs": [
    {
     "data": {
      "text/plain": [
       "((120, 4), (30, 4), (120,), (30,))"
      ]
     },
     "execution_count": 1,
     "metadata": {},
     "output_type": "execute_result"
    }
   ],
   "source": [
    "from sklearn import datasets \n",
    "from sklearn.preprocessing import StandardScaler \n",
    "from sklearn.neighbors import KNeighborsClassifier\n",
    "from sklearn.model_selection import train_test_split \n",
    "from sklearn.metrics import classification_report\n",
    "\n",
    "iris=datasets.load_iris() \n",
    "features= iris.data\n",
    "target=iris.target\n",
    "\n",
    "x_train, x_test,y_train,y_test=train_test_split(features, target, test_size=0.2, random_state=2)\n",
    "x_train. shape, x_test.shape,y_train.shape,y_test.shape"
   ]
  },
  {
   "cell_type": "code",
   "execution_count": 2,
   "id": "d0faace9",
   "metadata": {},
   "outputs": [
    {
     "name": "stdout",
     "output_type": "stream",
     "text": [
      "              precision    recall  f1-score   support\n",
      "\n",
      "           0       1.00      1.00      1.00        14\n",
      "           1       1.00      1.00      1.00         8\n",
      "           2       1.00      1.00      1.00         8\n",
      "\n",
      "    accuracy                           1.00        30\n",
      "   macro avg       1.00      1.00      1.00        30\n",
      "weighted avg       1.00      1.00      1.00        30\n",
      "\n"
     ]
    }
   ],
   "source": [
    "scaler=StandardScaler()\n",
    "\n",
    "x_train_scaled=scaler.fit_transform(x_train)\n",
    "\n",
    "x_test_scaled=scaler.transform(x_test)\n",
    "\n",
    "knn=KNeighborsClassifier(n_neighbors=3)\n",
    "\n",
    "model=knn.fit(x_train_scaled,y_train)\n",
    "y_pred=model.predict(x_test_scaled)\n",
    "print(classification_report(y_test,y_pred))"
   ]
  },
  {
   "cell_type": "code",
   "execution_count": 3,
   "id": "b85a9062",
   "metadata": {},
   "outputs": [
    {
     "name": "stdout",
     "output_type": "stream",
     "text": [
      "index\ty_test\ty_pred\tpredicted\n",
      "0\t0\t0\tcorrect\n",
      "1\t0\t0\tcorrect\n",
      "2\t2\t2\tcorrect\n",
      "3\t0\t0\tcorrect\n",
      "4\t0\t0\tcorrect\n",
      "5\t2\t2\tcorrect\n",
      "6\t0\t0\tcorrect\n",
      "7\t2\t2\tcorrect\n",
      "8\t2\t2\tcorrect\n",
      "9\t0\t0\tcorrect\n",
      "10\t0\t0\tcorrect\n",
      "11\t0\t0\tcorrect\n",
      "12\t0\t0\tcorrect\n",
      "13\t0\t0\tcorrect\n",
      "14\t1\t1\tcorrect\n",
      "15\t1\t1\tcorrect\n",
      "16\t0\t0\tcorrect\n",
      "17\t1\t1\tcorrect\n",
      "18\t2\t2\tcorrect\n",
      "19\t1\t1\tcorrect\n",
      "20\t1\t1\tcorrect\n",
      "21\t1\t1\tcorrect\n",
      "22\t2\t2\tcorrect\n",
      "23\t1\t1\tcorrect\n",
      "24\t1\t1\tcorrect\n",
      "25\t0\t0\tcorrect\n",
      "26\t0\t0\tcorrect\n",
      "27\t2\t2\tcorrect\n",
      "28\t0\t0\tcorrect\n",
      "29\t2\t2\tcorrect\n"
     ]
    }
   ],
   "source": [
    "print(\"index\",\"y_test\",\"y_pred\", \"predicted\",sep='\\t')\n",
    "\n",
    "for i in range(len(y_test)):\n",
    "\n",
    "    if (y_test[i]==y_pred[i]):\n",
    "\n",
    "        print(i,y_test [i],y_pred [i], \"correct\", sep=\"\\t\")\n",
    "\n",
    "    else:\n",
    "\n",
    "        print(i,y_test[i], y_pred [i],\"wrong\", sep=\"\\t\")"
   ]
  },
  {
   "cell_type": "code",
   "execution_count": null,
   "id": "8a99f804",
   "metadata": {},
   "outputs": [],
   "source": []
  }
 ],
 "metadata": {
  "kernelspec": {
   "display_name": "Python 3 (ipykernel)",
   "language": "python",
   "name": "python3"
  },
  "language_info": {
   "codemirror_mode": {
    "name": "ipython",
    "version": 3
   },
   "file_extension": ".py",
   "mimetype": "text/x-python",
   "name": "python",
   "nbconvert_exporter": "python",
   "pygments_lexer": "ipython3",
   "version": "3.11.5"
  }
 },
 "nbformat": 4,
 "nbformat_minor": 5
}
