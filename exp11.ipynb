{
 "cells": [
  {
   "cell_type": "code",
   "execution_count": 5,
   "id": "46f2a5d0",
   "metadata": {},
   "outputs": [
    {
     "data": {
      "text/plain": [
       "0.9393433500278241"
      ]
     },
     "execution_count": 5,
     "metadata": {},
     "output_type": "execute_result"
    }
   ],
   "source": [
    "from sklearn.datasets import load_digits\n",
    "from sklearn.linear_model import Perceptron \n",
    "X, y =load_digits(return_X_y=True)\n",
    "clf=Perceptron(tol=1e-3, random_state=0) \n",
    "clf.fit(X, y)\n",
    "\n",
    "clf.score (X, y)\n",
    "\n",
    "\n"
   ]
  },
  {
   "cell_type": "code",
   "execution_count": 7,
   "id": "adb662e2",
   "metadata": {},
   "outputs": [
    {
     "name": "stdout",
     "output_type": "stream",
     "text": [
      "[8]\n",
      "8\n"
     ]
    }
   ],
   "source": [
    "z=clf.predict(X[1796].reshape(1,-1))\n",
    "print(z)\n",
    "\n",
    "print (y [1796])"
   ]
  },
  {
   "cell_type": "code",
   "execution_count": null,
   "id": "5091b204",
   "metadata": {},
   "outputs": [],
   "source": []
  }
 ],
 "metadata": {
  "kernelspec": {
   "display_name": "Python 3 (ipykernel)",
   "language": "python",
   "name": "python3"
  },
  "language_info": {
   "codemirror_mode": {
    "name": "ipython",
    "version": 3
   },
   "file_extension": ".py",
   "mimetype": "text/x-python",
   "name": "python",
   "nbconvert_exporter": "python",
   "pygments_lexer": "ipython3",
   "version": "3.10.9"
  }
 },
 "nbformat": 4,
 "nbformat_minor": 5
}
