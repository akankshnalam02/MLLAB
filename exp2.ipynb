{
 "cells": [
  {
   "cell_type": "code",
   "execution_count": 1,
   "id": "fcf14d87-6dab-4133-a8ab-8a74acec5728",
   "metadata": {},
   "outputs": [
    {
     "name": "stdout",
     "output_type": "stream",
     "text": [
      "   ID  Category_A  Category_B  Category_C\n",
      "0   1        True       False       False\n",
      "1   2       False        True       False\n",
      "2   3        True       False       False\n",
      "3   4       False       False        True\n",
      "4   5       False        True       False\n"
     ]
    }
   ],
   "source": [
    "import pandas as pd\n",
    "\n",
    "# Sample DataFrame\n",
    "data = {'ID': [1, 2, 3, 4, 5],\n",
    "        'Category': ['A', 'B', 'A', 'C', 'B']}\n",
    "\n",
    "df = pd.DataFrame(data)\n",
    "\n",
    "# Perform one-hot encoding\n",
    "one_hot_encoded_df = pd.get_dummies(df, columns=['Category'])  # , drop_first=True\n",
    "print(one_hot_encoded_df)"
   ]
  },
  {
   "cell_type": "code",
   "execution_count": 2,
   "id": "4d22df3d-f562-4a83-b24b-79a410af7a03",
   "metadata": {},
   "outputs": [
    {
     "name": "stdout",
     "output_type": "stream",
     "text": [
      "   ID  Category_B  Category_C\n",
      "0   1           0           0\n",
      "1   2           1           0\n",
      "2   3           0           0\n",
      "3   4           0           1\n",
      "4   5           1           0\n"
     ]
    }
   ],
   "source": [
    "import pandas as pd\n",
    "from sklearn.preprocessing import OneHotEncoder\n",
    "\n",
    "# Sample DataFrame\n",
    "data = {'ID': [1, 2, 3, 4, 5],\n",
    "        'Category': ['A', 'B', 'A', 'C', 'B']}\n",
    "df = pd.DataFrame(data)\n",
    "\n",
    "# Create the OneHotEncoder object with sparse_output=False\n",
    "encoder = OneHotEncoder(sparse_output=False, drop='first')\n",
    "\n",
    "# Apply the encoder and convert the output to integers\n",
    "one_hot_encoded_data = encoder.fit_transform(df[['Category']]).astype('int')\n",
    "\n",
    "# Create a new DataFrame with the one-hot encoded data\n",
    "one_hot_encoded_df = pd.DataFrame(one_hot_encoded_data, columns=encoder.get_feature_names_out(['Category']))\n",
    "\n",
    "# Concatenate the one-hot encoded DataFrame with the original DataFrame\n",
    "result_df = pd.concat([df, one_hot_encoded_df], axis=1)\n",
    "\n",
    "# Drop the original 'Category' column if needed\n",
    "result_df.drop('Category', axis=1, inplace=True)\n",
    "\n",
    "print(result_df)\n"
   ]
  },
  {
   "cell_type": "code",
   "execution_count": 3,
   "id": "fe55883a-6887-43dd-9498-5333a51799e2",
   "metadata": {},
   "outputs": [
    {
     "name": "stdout",
     "output_type": "stream",
     "text": [
      "   ID Category  Category_encoded\n",
      "0   1        A                 0\n",
      "1   2     <NA>                -1\n",
      "2   3        A                 0\n",
      "3   4        C                 2\n",
      "4   5        B                 1\n"
     ]
    }
   ],
   "source": [
    "from pandas.io.formats.format import NA\n",
    "import pandas as pd\n",
    "\n",
    "# Sample DataFrame\n",
    "data = {'ID': [1, 2, 3, 4, 5],\n",
    "        'Category': ['A', NA, 'A', 'C', 'B']}\n",
    "df = pd.DataFrame(data)\n",
    "\n",
    "# Perform label encoding\n",
    "df['Category_encoded'] = df['Category'].astype('category').cat.codes\n",
    "\n",
    "# df.drop('Category', axis=1, inplace=True)\n",
    "print(df)"
   ]
  },
  {
   "cell_type": "code",
   "execution_count": 4,
   "id": "a917df5a-7c59-4a7c-9dc3-e7449f129ea6",
   "metadata": {},
   "outputs": [
    {
     "name": "stdout",
     "output_type": "stream",
     "text": [
      "Sparse Encoding:\n",
      "  (0, 2)\t1.0\n",
      "  (0, 5)\t1.0\n",
      "  (1, 0)\t1.0\n",
      "  (1, 3)\t1.0\n",
      "  (2, 1)\t1.0\n",
      "  (2, 4)\t1.0\n"
     ]
    }
   ],
   "source": [
    "from sklearn.preprocessing import OneHotEncoder\n",
    "import numpy as np\n",
    "\n",
    "# Sample data with categorical variables\n",
    "data = [\n",
    "    ['red', 'small'],\n",
    "    ['blue', 'large'],\n",
    "    ['green', 'medium'],\n",
    "]\n",
    "\n",
    "# Create an instance of OneHotEncoder with sparse_output=True\n",
    "encoder_sparse = OneHotEncoder(sparse_output=True)\n",
    "encoded_data_sparse = encoder_sparse.fit_transform(data)\n",
    "\n",
    "print(\"Sparse Encoding:\")\n",
    "print(encoded_data_sparse)\n"
   ]
  },
  {
   "cell_type": "code",
   "execution_count": 5,
   "id": "40419fed-4bdf-4ebc-9eb9-10c4808b8037",
   "metadata": {},
   "outputs": [
    {
     "name": "stdout",
     "output_type": "stream",
     "text": [
      "Dense Encoding:\n",
      "[[0. 0. 1. 0. 0. 1.]\n",
      " [1. 0. 0. 1. 0. 0.]\n",
      " [0. 1. 0. 0. 1. 0.]]\n"
     ]
    }
   ],
   "source": [
    "from sklearn.preprocessing import OneHotEncoder\n",
    "import numpy as np\n",
    "\n",
    "# Sample data with categorical variables\n",
    "data = [\n",
    "    ['red', 'small'],\n",
    "    ['blue', 'large'],\n",
    "    ['green', 'medium'],\n",
    "]\n",
    "\n",
    "# Create an instance of OneHotEncoder with sparse_output=False\n",
    "encoder_dense = OneHotEncoder(sparse_output=False)\n",
    "encoded_data_dense = encoder_dense.fit_transform(data)\n",
    "\n",
    "print(\"Dense Encoding:\")\n",
    "print(encoded_data_dense)\n"
   ]
  },
  {
   "cell_type": "code",
   "execution_count": 6,
   "id": "b8a99ca3-1454-41ca-b762-43c5fc85b533",
   "metadata": {},
   "outputs": [
    {
     "name": "stdout",
     "output_type": "stream",
     "text": [
      "Encoded DataFrame:\n",
      "   Category  Color  Target\n",
      "0         0      2       1\n",
      "1         1      0       0\n",
      "2         0      1       0\n",
      "3         2      2       1\n",
      "4         1      1       1\n",
      "\n",
      "Original Category Labels:\n"
     ]
    }
   ],
   "source": [
    "import pandas as pd\n",
    "from sklearn.preprocessing import OrdinalEncoder, LabelEncoder\n",
    "\n",
    "# Sample DataFrame with categorical features and target variable\n",
    "data = {\n",
    "    'Category': ['A', 'B', 'A', 'C', 'B'],\n",
    "    'Color': ['Red', 'Blue', 'Green', 'Red', 'Green'],\n",
    "    'Target': ['Yes', 'No', 'No', 'Yes', 'Yes']\n",
    "}\n",
    "df = pd.DataFrame(data)\n",
    "\n",
    "# Step 3: Identify the categorical features and target variable\n",
    "categorical_features = ['Category', 'Color']\n",
    "target_variable = 'Target'\n",
    "\n",
    "# Step 4: Use OrdinalEncoder for categorical features and LabelEncoder for the target variable\n",
    "ordinal_encoder = OrdinalEncoder()\n",
    "label_encoder = LabelEncoder()\n",
    "\n",
    "# Fit and transform the categorical features using OrdinalEncoder\n",
    "df[categorical_features] = ordinal_encoder.fit_transform(df[categorical_features]).astype('int')\n",
    "\n",
    "# Fit and transform the target variable using LabelEncoder\n",
    "df[target_variable] = label_encoder.fit_transform(df[target_variable])\n",
    "\n",
    "# Step 6: Optionally, use inverse_transform to decode the labels back to their original values\n",
    "original_category_labels = ordinal_encoder.inverse_transform(df[categorical_features].values)\n",
    "original_target_labels = label_encoder.inverse_transform(df[target_variable].values)\n",
    "\n",
    "print(\"Encoded DataFrame:\")\n",
    "print(df)\n",
    "\n",
    "print(\"\\nOriginal Category Labels:\")"
   ]
  },
  {
   "cell_type": "code",
   "execution_count": null,
   "id": "84c04943-75b6-428e-97be-3e0b838c2dcb",
   "metadata": {},
   "outputs": [],
   "source": []
  }
 ],
 "metadata": {
  "kernelspec": {
   "display_name": "Python 3 (ipykernel)",
   "language": "python",
   "name": "python3"
  },
  "language_info": {
   "codemirror_mode": {
    "name": "ipython",
    "version": 3
   },
   "file_extension": ".py",
   "mimetype": "text/x-python",
   "name": "python",
   "nbconvert_exporter": "python",
   "pygments_lexer": "ipython3",
   "version": "3.11.5"
  }
 },
 "nbformat": 4,
 "nbformat_minor": 5
}
